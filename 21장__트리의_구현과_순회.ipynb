{
  "nbformat": 4,
  "nbformat_minor": 0,
  "metadata": {
    "colab": {
      "provenance": []
    },
    "kernelspec": {
      "name": "python3",
      "display_name": "Python 3"
    },
    "language_info": {
      "name": "python"
    }
  },
  "cells": [
    {
      "cell_type": "markdown",
      "source": [
        "# 21. 트리의 구현과 순회\n",
        "##21.2 도입\n",
        "**트리** : 계층적 구조를 갖는 자료를 표현하기 위한 자료 구조\n",
        "- 어떤 개념이 다른개념을 포함하면 두 개념을 상위 - 하위로 연결 -> 상위 개념에서 가지 쳐서 뻗어나가는 모습이 실제 나무와 닮아서 이 자료구조를 트리라고 부름.\n",
        "- 예시 : 이진 검색 트리\n",
        "\n",
        "### 기초적인 정의와 용어\n",
        "\n",
        "####트리의 구성 요소\n",
        "**트리** : 저장된 *노드(node)와 간선(edge)*으로 구성\n",
        "\n",
        "**노드**\n",
        "- 노드 간에는 상/하위 관계 존재\n",
        "-두 노드 연결 시 한 노드는 좀 더 상위, 한 노드는 좀 더 하위에 있어야 함\n",
        "  - 부모노드 : 두 연결된 노드 중 상위에 있는 노드\n",
        "  - 자식 노드 :  두 연결된 노드 중 하위에 있는 노드\n",
        "  - 형제 노드 :부모 노드가 같은 두 노드\n",
        "  - 선조 : 부모 노드와 부모 노드의 부모들 전부\n",
        "  -자손 : 자식 노드와 그의 자식들 전부\n",
        "\n",
        "    - 부모는 하나만 가질 수 있다\n",
        "    - 한 노드는 여러개의 자식 노드를 가질 수 있다\n",
        "\n",
        "    - 트리에는 다른 모든 노드들을 자손으로 갖는 노드가 딱 하나 존재 : **루트(root) **\n",
        "    - **리프 (leaf)** : 자식이 하나도 없는 노드들  \n",
        "\n",
        "\n",
        "\n",
        "####트리와 노드의 속성\n",
        "**노드의 깊이** : 루트에서 어떤 노드에 도달하기 위해 거쳐야 하는 간선의 수  \n",
        "- 깊이가 깊을수록 트리 아래쪽에 있는 노드 지칭\n",
        "\n",
        "**트리의 높이** : 트리에서 가장 깊숙히 있는 노드의 깊이\n",
        "\n",
        "####트리의 재귀적 속성\n",
        "\n",
        "; 트리에서 한 노드와 그의 자손들을 모두 모으면 그들도 하나의 트리가 된다  \n",
        "\n",
        "t를 루트로 하는 **서브트리(subtree)** : 어떤 노드 t와 그의 자손들로 구성된 트리\n",
        "\n",
        "모든 트리는 루트와 루트 밑에 있는 서브트리의 집합  \n",
        "\n",
        "-> 재귀적 속성 때문에 트리 다루는 코드들은 대개 재귀 호출을 통해 구현\n",
        "\n",
        "####트리의 표현\n",
        "; 각 노드를 하나의 구조체/객체로 표현하고, 이들을 서로의 포인터로 연결  \n",
        "; 각 노드들은 자신의 부모와 모든 자손들에 대한 포인터 갖고 있다\n",
        "\n",
        "\n",
        "\n",
        "\n",
        "\n",
        "\n",
        "\n",
        "\n",
        "\n"
      ],
      "metadata": {
        "id": "gP59f3zNcu0b"
      }
    },
    {
      "cell_type": "code",
      "source": [
        "#트리의 노드를 표현하는 객체의 구현\n",
        "struct TreeNode {\n",
        "    string label; #저장할 자료(여기는 string이지만 꼭 문자열일 필요는 없음)\n",
        "    TreeNode* parent;  #부모 노드들 가리키는 포인터\n",
        "    vector<TreeNode*> children; #자손 노드들 가리키는 포인터의 배열\n",
        "}"
      ],
      "metadata": {
        "id": "Zi6n5NqyNT-W"
      },
      "execution_count": null,
      "outputs": []
    },
    {
      "cell_type": "markdown",
      "source": [
        "*트리의 구현은 위와 달리 다양할 수 있다  *\n",
        "Ex. 22장의 이진 검색 트리는 왼쪽, 오른쪽에 최대 하나씩의 자식만을 가질 수 있으므로 자손 노드들의 포인터 담는 배열 대신 두 포인터 left, right로 자식들 저장  \n",
        "23장의 힙에서는 노드가 들어갈 수 있는 자리 비어 놓지 않고 노드 꽉 채워넣으므로 배열로 트리 내용 표현 가능\n"
      ],
      "metadata": {
        "id": "gi3FNnfrNsPU"
      }
    },
    {
      "cell_type": "markdown",
      "source": [
        "##21.2 트리의 순회\n",
        "트리는 선형 구조가 아님 -> 모든 자료 순회하려면 트리의 재귀적 속성을 이용해야 함  <div>\n",
        "\n",
        "**트리의 모든 노드 순회** : 주어진 트리의 루트를 방문한 뒤 각 서브트리를 재귀적으로 방문하는 함수 만들어 순회 가능\n",
        "구현 (c++, python)"
      ],
      "metadata": {
        "id": "Vfmd_NK2ORau"
      }
    },
    {
      "cell_type": "code",
      "source": [
        "// 주어진 트리의 각 노드에 저장된 값을 모두 출력한다.\n",
        "void printLabels(TreeNode* root)\n",
        "{\n",
        "\t// 루트에 저장된 값을 출력한다.\n",
        "\tcout<< root->label <<endl;\n",
        "\n",
        "\t// 각 자손들을 루트로 하는 서브트리에 포함된 값을들 재귀적으로 출력한다.(for문으로 루트 노드 자식들 순회하며 해당 자식 노드들의 값 출력)\n",
        "for (int i = 0; i < root->children.size(); ++i)\n",
        "\t{\n",
        "\t\tprintLabels(root->children[i]; // printLabels 함수를 재귀적으로 호출하여 현재 자식 노드의 값을 출력 (자식 노드도 재귀적으로 출력)\n",
        "\t}\n",
        "}"
      ],
      "metadata": {
        "id": "FRXrIVHjPHKE"
      },
      "execution_count": null,
      "outputs": []
    },
    {
      "cell_type": "code",
      "source": [
        "class TreeNode:\n",
        "    def __init__(self, label, children=[]):\n",
        "        self.label = label             #label: 해당 노드에 저장된 값입니다. 트리의 각 노드는 하나의 값을 가지며, 이 값 label에 저장\n",
        "        self.children = children       # children:  해당 노드의 자식 노드들을 저장하는 리스트\n",
        "\n",
        "def print_labels(root):\n",
        "    # 루트에 저장된 값을 출력한다.\n",
        "    print(root.label)\n",
        "\n",
        "    # 각 자손들을 루트로 하는 서브트리에 포함된 값을들 재귀적으로 출력한다.\n",
        "    for child in root.children:         #print_labels 함수가 자신을 재귀적으로 호출 -> 트리의 모든 노드를 방문하 -> 각 노드의 label 값을 출력합니다\n",
        "        print_labels(child)"
      ],
      "metadata": {
        "id": "2dRDJ24bPXJ0"
      },
      "execution_count": null,
      "outputs": []
    },
    {
      "cell_type": "markdown",
      "source": [
        "순회로 **트리의 높이** 구하기 가능  <div>\n",
        "\n",
        ": 트리의 높이를 재귀적으로 정의하여 구현\n",
        "  - 루트의 각 자식들을 루트로 하는 서브트리의 높이를 각각 재귀 호출을 통해 계산\n",
        "  - *전체 트리의 높이* = 앞서 구한 서브트리들의 높이의 최대치 +1\n",
        "  - 자손이 없으면 높이가 0\n",
        "\n",
        "  아래 : 순회를 이용해 트리 높이 계산하는 코드 구현"
      ],
      "metadata": {
        "id": "Yn-_07dAQWH2"
      }
    },
    {
      "cell_type": "code",
      "source": [
        "// root를 루트로 하는 트리의 높이를 구한다\n",
        "int height(TreeNode* root)\n",
        "{\n",
        "\tint h = 0;\n",
        "\tfor (int i = 0; i < root->children.size(); ++i)\n",
        "\t{\n",
        "\t\t// h는 직전까지 계산한 서브트리의 최대 높이이다.\n",
        "\t\th = max(h, 1 + height(root->children[i]));\n",
        "\t}\n",
        "\treturn h;\n",
        "}"
      ],
      "metadata": {
        "id": "JhbqbA4oRFL_"
      },
      "execution_count": null,
      "outputs": []
    },
    {
      "cell_type": "code",
      "source": [
        "class TreeNode:\n",
        "    def __init__(self, label, children=[]):\n",
        "        self.label = label\n",
        "        self.children = children\n",
        "\n",
        "def height(root): # height 함수 정의\n",
        "    h = 0         # 높이 저장하는 변수 초기화\n",
        "    for child in root.children: #root의 자식들 순회, children은 리스트\n",
        "        # h는 직전까지 계산한 서브트리의 최대 높이이다.\n",
        "        h = max(h, 1 + height(child)) # 자식노드에 재귀적으로 height 함수 호출 , +1은 자기 자신도 높이에 포함하기 때문, 이전까지 구한 높이 h와 비교하여 더 큰 것 선택 ->현재까지 방문한 서브트리 중\n",
        "                                      # 가장 큰 높이 갖게 됨\n",
        "    return h"
      ],
      "metadata": {
        "id": "m4EmIVyKRoIA"
      },
      "execution_count": null,
      "outputs": []
    },
    {
      "cell_type": "markdown",
      "source": [
        "트리의 순회에 걸리는 *시간* : 트리에 n개 노드 있으면 이들을 모두 순회하는 데 걸리는 시간은 O(N)"
      ],
      "metadata": {
        "id": "vKEf86fERLag"
      }
    },
    {
      "cell_type": "markdown",
      "source": [
        "### 트리에서 가장 긴 경로 찾기\n",
        "point : *최장 경로의 양 끝 노드는 항상 루트 혹은 잎 노드*여야 한다.\n",
        "####최장 경로의 길이  \n",
        "1) 가장 긴 루트 - 잎 경로의 길이 ( = 트리의 높이 h와 동일)  \n",
        "2) **가장 긴 잎 - 잎 경로의 길이**\n",
        "\n",
        "\n",
        "- 잎 - 잎 경로는 항상 어떤 노드까지 쭉 위로 올라가다 다시 쭉 아래로 내려가는 형태\n",
        "  - 최상위 경로 : 경로가 올라가다가 내려가는 지점\n",
        "- 1) 트리 순회 과정에서 각 노드마다 그 노드를 최상위 노드로 갖는 가장 긴 잎 - 잎 노드를 계산  \n",
        "- 2) 그 중 최댓값 선택하기"
      ],
      "metadata": {
        "id": "eRWu-oLlSa5O"
      }
    },
    {
      "cell_type": "code",
      "source": [
        "int longest;  // 지금까지 찾은 가장 긴 잎 - 잎 경로의 길이\n",
        "\n",
        "struct TreeNode {\n",
        "\tvector<TreeNode*> children;\n",
        "};\n",
        "\n",
        "// node를 루트로 하는 트리의 높이를 리턴한다.\n",
        "int height(TreeNode* node) {\n",
        "\tvector<int> heights;\n",
        "\n",
        "\t// 모든 자식 노드에 대해서 서브트리의 높이를 구한다.\n",
        "\tfor (int i = 0; i < node->children.size(); i++) {\n",
        "\t\theights.push_back(height(node->children[i]));\n",
        "\t}\n",
        "\n",
        "\t// 자식 노드가 하나도 없으면 트리의 높이는 0\n",
        "\tif (heights.empty()) return 0;\n",
        "\n",
        "\tsort(heights.begin(), heights.end());\n",
        "\n",
        "\t// 자식 노드가 두개 이상이면 해당 노드를 최상위 노드로 하는 잎 - 잎 경로의 길이를 계산한다.\n",
        "\t// longest의 값을 업데이트 시켜준다.\n",
        "\tif(heights.size() >=2)\n",
        "\t\tlongest = max(longest, heights[heights.size() - 1] + heights[heights.size() - 2] + 2);\n",
        "\n",
        "\treturn heights.back() + 1;\n",
        "}\n",
        "\n",
        "int solve(TreeNode* root) {\n",
        "\tlongest = 0;\n",
        "\tint h = height(root);\n",
        "\n",
        "\t// 트리의 높이와 최대 잎 - 잎 경로의 길이 중 최대값을 리턴한다.\n",
        "\treturn max(h, longest);\n",
        "}"
      ],
      "metadata": {
        "id": "ykL-mohaT8wC"
      },
      "execution_count": null,
      "outputs": []
    },
    {
      "cell_type": "code",
      "source": [
        "class TreeNode:\n",
        "    def __init__(self):\n",
        "        self.children = []\n",
        "\n",
        "# node를 루트로 하는 트리의 높이를 리턴한다.\n",
        "def height(node):\n",
        "    heights = []\n",
        "\n",
        "    # 모든 자식 노드에 대해서 서브트리의 높이를 구한다.\n",
        "    for child in node.children:\n",
        "        heights.append(height(child))\n",
        "\n",
        "    # 자식 노드가 하나도 없으면 트리의 높이는 0\n",
        "    if not heights:\n",
        "        return 0\n",
        "\n",
        "    heights.sort()\n",
        "\n",
        "    # 자식 노드가 두 개 이상이면 해당 노드를 최상위 노드로 하는 잎 - 잎 경로의 길이를 계산한다.\n",
        "    # longest의 값을 업데이트 시켜준다.\n",
        "    if len(heights) >= 2:\n",
        "        global longest\n",
        "        longest = max(longest, heights[-1] + heights[-2] + 2)\n",
        "# 위는 두 개 잎 사이의 경로의 전체 길이 계산. height 리스트의 마지막 원소 + 끝에서 두 번째 원소  + 두 개의 edge(두 노드 사이 경로)\n",
        "#heights[-1] = 한개의 잎 노드 높이 heights[-2] = 다른 한 개의 잎 노드의 높이\n",
        "\n",
        "    return heights[-1] + 1 #현재 노드를 루트로 하는 서브트리의 높이  + 현재 노드 자체의 높이\n",
        "\n",
        "#최대 잎 거리를 구하는 부분\n",
        "def solve(root):\n",
        "    global longest\n",
        "    longest = 0 #초기화\n",
        "    h = height(root) #root를 루트로 하는 트리의 높이 계산\n",
        "\n",
        "    # 트리의 높이와 최대 잎 - 잎 경로의 길이 중 최대값을 리턴한다.\n",
        "    return max(h, longest)"
      ],
      "metadata": {
        "id": "01KXE6QnT9g8"
      },
      "execution_count": null,
      "outputs": []
    },
    {
      "cell_type": "markdown",
      "source": [
        "height()로 트리 전체의 시간 처리하는 데는 O(n)시간"
      ],
      "metadata": {
        "id": "utNdvwDZVMWI"
      }
    },
    {
      "cell_type": "markdown",
      "source": [
        "![요새 문제.jpg](data:image/jpeg;base64,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)"
      ],
      "metadata": {
        "id": "gRT86ibQVYs9"
      }
    },
    {
      "cell_type": "markdown",
      "source": [
        "**문제**  \n",
        "\n",
        "요새가 그림과 같이 커다란 원형 외벽 내에 여러 개의 원형 성벽이 겹겹이 지어진 형태로 구성되어 있는데, 어떤 성벽에도 문이 없어서 성벽을 지나가려면 사다리를 타고 성벽을 오르내려야 합니다.   \n",
        "요새 내에서 왕래가 불편한 곳들을 연결하는 터널을 만들기로 했습니다.   \n",
        "이를 위해 요새 내에서 서로 왕래하기 위해 가장 성벽을 많이 넘어야 하는 두 지점을 찾으려고 합니다.   \n",
        "예를 들어 위 그림의 경우, 별표로 표시된 두 지점 간을 이동하기 위해서는 다섯 번이나 성벽을 넘어야 하지요.  \n",
        "  \n",
        "성벽들의 정보가 주어질 때 가장 성벽을 많이 넘어야 하는 두 지점 간을 이동하기 위해 몇 번이나 성벽을 넘어야 하는지 계산하는 프로그램을 작성하세요.\n"
      ],
      "metadata": {
        "id": "NGh1c_nRV9VP"
      }
    }
  ]
}